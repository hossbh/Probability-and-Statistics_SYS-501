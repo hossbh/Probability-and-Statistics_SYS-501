{
 "cells": [
  {
   "cell_type": "code",
   "execution_count": 1,
   "id": "c2a58262",
   "metadata": {},
   "outputs": [],
   "source": [
    "import matplotlib.pyplot as plt\n",
    "import numpy as np\n",
    "import math\n",
    "from scipy.stats import poisson\n",
    "from math import exp, factorial\n",
    "from scipy.stats import poisson\n",
    "from scipy.stats import binom\n",
    "from scipy.stats import norm\n",
    "from scipy.stats import weibull_min"
   ]
  },
  {
   "cell_type": "markdown",
   "id": "23e586e3",
   "metadata": {},
   "source": [
    "P1. Customers arrive at a café at random at a rate of 6 per hour. Assuming the random variable\n",
    "𝑋 that counts the number of customers arriving at the café every hour follows a Poisson\n",
    "distribution.\n",
    "a) bar plot for the PMF of 𝑃(𝑋 = 𝑥)."
   ]
  },
  {
   "cell_type": "code",
   "execution_count": 2,
   "id": "8d0e8573",
   "metadata": {},
   "outputs": [
    {
     "data": {
      "image/png": "[encoded data removed]",
      "text/plain": [
       "<Figure size 600x400 with 1 Axes>"
      ]
     },
     "metadata": {},
     "output_type": "display_data"
    }
   ],
   "source": [
    "rate = 6\n",
    "x = np.arange(0, 16)\n",
    "pmf = poisson.pmf(x, rate)\n",
    "\n",
    "plt.figure(figsize=(6, 4))\n",
    "plt.bar(x, pmf)\n",
    "plt.xlabel('Number of Customers')\n",
    "plt.ylabel('P(X = x)')\n",
    "plt.title('Poisson Distribution PMF(λ = 6)')\n",
    "plt.xticks(x)\n",
    "plt.show()\n"
   ]
  },
  {
   "cell_type": "markdown",
   "id": "86135cfd",
   "metadata": {},
   "source": [
    "Define a new random variable 𝑌 and calculate a new average rate to represent\n",
    "the number of customers arriving in 90-minute periods."
   ]
  },
  {
   "cell_type": "code",
   "execution_count": 3,
   "id": "89182d01",
   "metadata": {},
   "outputs": [
    {
     "data": {
      "text/plain": [
       "9.0"
      ]
     },
     "execution_count": 3,
     "metadata": {},
     "output_type": "execute_result"
    }
   ],
   "source": [
    "# New rate for a 90-minute period\n",
    "new_rate = 6 * 1.5\n",
    "new_rate"
   ]
  },
  {
   "cell_type": "markdown",
   "id": "59c1a2d1",
   "metadata": {},
   "source": [
    "Calculate the probability that during any 90-minute period the number of\n",
    "customers arriving at this café is i) exactly 5, i.e., 𝑃(𝑌 = 5) and ii) at least 10, i.e.,\n",
    "𝑃(𝑌 ≥ 10)."
   ]
  },
  {
   "cell_type": "code",
   "execution_count": 4,
   "id": "773cda7d",
   "metadata": {},
   "outputs": [
    {
     "data": {
      "text/plain": [
       "(0.06072687934595285, 0.4125917556680585)"
      ]
     },
     "execution_count": 4,
     "metadata": {},
     "output_type": "execute_result"
    }
   ],
   "source": [
    "# P(Y = 5)\n",
    "prob_Y_equals_5 = (exp(-new_rate) * new_rate**5) / factorial(5)\n",
    "# P(Y >= 10)\n",
    "prob_Y_at_least_10 = 1 - sum((exp(-new_rate) * new_rate**k) / factorial(k) for k in range(10))\n",
    "prob_Y_equals_5, prob_Y_at_least_10\n"
   ]
  },
  {
   "cell_type": "markdown",
   "id": "11ce505f",
   "metadata": {},
   "source": [
    "A customer arrives at 10.00am. Find the probability that the next customer\n",
    "arrives before 10.15am."
   ]
  },
  {
   "cell_type": "code",
   "execution_count": 5,
   "id": "08dbdcdd",
   "metadata": {},
   "outputs": [
    {
     "data": {
      "text/plain": [
       "0.7768698398515702"
      ]
     },
     "execution_count": 5,
     "metadata": {},
     "output_type": "execute_result"
    }
   ],
   "source": [
    "rate_15_minutes = 1.5\n",
    "prob_at_least_1_customer = 1 - poisson.cdf(0, rate_15_minutes)\n",
    "prob_at_least_1_customer"
   ]
  },
  {
   "cell_type": "markdown",
   "id": "aebfd7aa",
   "metadata": {},
   "source": [
    "P2. Each of 500 soldiers in an army company independently has a certain disease with\n",
    "probability 𝑝 = 1/103. This disease will show up in a blood test, and to facilitate matters,\n",
    "blood samples from all 500 soldiers are pooled and tested.\n",
    "\n",
    "This event can be modeled with binomial distribution.\n",
    "𝑛 = 500, 𝑝 = 0.001\n",
    "Since the number of experiments is too large, a Poisson distribution also gives\n",
    "similar results.\n",
    "𝜆 = 500 ⋅ 0.001 = 0.5"
   ]
  },
  {
   "cell_type": "markdown",
   "id": "139dc76a",
   "metadata": {},
   "source": [
    "What is the expected number of soldiers 𝐸[𝑋] in this company to have the\n",
    "disease?"
   ]
  },
  {
   "cell_type": "code",
   "execution_count": 6,
   "id": "cc701890",
   "metadata": {},
   "outputs": [
    {
     "data": {
      "text/plain": [
       "0.5"
      ]
     },
     "execution_count": 6,
     "metadata": {},
     "output_type": "execute_result"
    }
   ],
   "source": [
    "n_soldiers = 500\n",
    "p_disease = 0.001\n",
    "expected = n_soldiers * p_disease\n",
    "expected"
   ]
  },
  {
   "cell_type": "markdown",
   "id": "7b997ad9",
   "metadata": {},
   "source": [
    "What is the probability that the blood test will be positive (that is, at least one\n",
    "person has the disease)?"
   ]
  },
  {
   "cell_type": "code",
   "execution_count": 7,
   "id": "7d55fff1",
   "metadata": {},
   "outputs": [
    {
     "data": {
      "text/plain": [
       "0.39362105513881496"
      ]
     },
     "execution_count": 7,
     "metadata": {},
     "output_type": "execute_result"
    }
   ],
   "source": [
    "# Calculate the cumulative distribution function for 0 successes\n",
    "prob_zero = binom.cdf(0, 500, 0.001)\n",
    "\n",
    "# Probability of at least one soldier having the disease\n",
    "prob_one = 1 - prob_zero\n",
    "prob_one"
   ]
  },
  {
   "cell_type": "markdown",
   "id": "8db8e200",
   "metadata": {},
   "source": [
    "Suppose that the blood test yields a positive result, i.e., it is given that X≥1. What\n",
    "is the probability, under this circumstance, that more than one person (i.e., X≥2) has\n",
    "the disease?"
   ]
  },
  {
   "cell_type": "code",
   "execution_count": 8,
   "id": "18ce2eb4",
   "metadata": {},
   "outputs": [
    {
     "data": {
      "text/plain": [
       "0.22897171928732796"
      ]
     },
     "execution_count": 8,
     "metadata": {},
     "output_type": "execute_result"
    }
   ],
   "source": [
    "# Cumulative distribution function for 0 and 1 successes\n",
    "prob_1 = 1-binom.cdf(1, n_soldiers, p_disease)\n",
    "# at least one soldier having the disease\n",
    "prob_2 =  1-binom.pmf(0, n_soldiers, p_disease)\n",
    "prob = prob_1 / prob_2\n",
    "prob"
   ]
  },
  {
   "cell_type": "markdown",
   "id": "da81e7cc",
   "metadata": {},
   "source": [
    "P3. The diameter of a particular type of shaft (in inches) coming out of a manufacturing machine is normally distributed. The parameters of this distribution are as follows:\n",
    "\n",
    "    Mean (𝜇): 0.9 inches\n",
    "    Standard Deviation (𝜎): 0.003 inches\n",
    "\n",
    "The customer has provided specification limits for the diameter of the shaft. These limits are:\n",
    "\n",
    "    Diameter (𝑑): 0.9 ± 0.005 inches"
   ]
  },
  {
   "cell_type": "markdown",
   "id": "f94a0e1d",
   "metadata": {},
   "source": [
    "What percentage of the production will fail to stay within the specified limits?"
   ]
  },
  {
   "cell_type": "code",
   "execution_count": 9,
   "id": "6c857ab4",
   "metadata": {},
   "outputs": [
    {
     "data": {
      "text/plain": [
       "9.558070454562914"
      ]
     },
     "execution_count": 9,
     "metadata": {},
     "output_type": "execute_result"
    }
   ],
   "source": [
    "# Given values\n",
    "mu = 0.9  \n",
    "sigma = 0.003 \n",
    "lower_limit = 0.895  \n",
    "upper_limit = 0.905  \n",
    "\n",
    "z_lower = (lower_limit - mu) / sigma\n",
    "z_upper = (upper_limit - mu) / sigma\n",
    "\n",
    "prob_below_lower = norm.cdf(z_lower)\n",
    "prob_above_upper = 1 - norm.cdf(z_upper)\n",
    "\n",
    "percentage_failure = (prob_below_lower + prob_above_upper) * 100\n",
    "percentage_failure"
   ]
  },
  {
   "cell_type": "markdown",
   "id": "83834eb2",
   "metadata": {},
   "source": [
    "Approximately 90% of the production will fall within the specified limits. 10% of the\n",
    "production will be wasted."
   ]
  },
  {
   "cell_type": "markdown",
   "id": "de3069e8",
   "metadata": {},
   "source": [
    "What is the maximum allowable value of 𝜎 that will permit no more than 1 in 100 defectives when the diameters are normally distributed with 𝜇 = 0.9 and 𝜎?"
   ]
  },
  {
   "cell_type": "code",
   "execution_count": 10,
   "id": "3ae64f8d",
   "metadata": {},
   "outputs": [
    {
     "name": "stdout",
     "output_type": "stream",
     "text": [
      "The maximum allowable value of sigma that will permit no more than 1 in 100 defectives is 0.0019399999999999973\n"
     ]
    }
   ],
   "source": [
    "max_defectives = 0.01  \n",
    "sigma = 0.003\n",
    "\n",
    "while True:\n",
    "    prob_below_lower = norm.cdf(lower_limit, mu, sigma)\n",
    "    prob_above_upper = 1 - norm.cdf(upper_limit, mu, sigma)\n",
    "    percentage_defective = prob_below_lower + prob_above_upper\n",
    "    if percentage_defective <= max_defectives:\n",
    "        break\n",
    "    sigma -= 0.00001\n",
    "\n",
    "print(f\"The maximum allowable value of sigma that will permit no more than 1 in 100 defectives is {sigma}\")"
   ]
  },
  {
   "cell_type": "markdown",
   "id": "fae9c971",
   "metadata": {},
   "source": [
    "P4. Jane is planning to buy a particular type of motorcycle. She is considering buying either a\n",
    "brand new or a used motorcycle. The total number of thousands of miles that a motorcycle\n",
    "can be ridden without any failure is a random variable 𝑋."
   ]
  },
  {
   "cell_type": "markdown",
   "id": "f03379c0",
   "metadata": {},
   "source": [
    "Assume that 𝑋 is exponentially distributed with an average of 18,000 miles.\n",
    "What is the probability that Jane can ride a brand-new motorcycle for 20,000 miles\n",
    "without any failure?"
   ]
  },
  {
   "cell_type": "code",
   "execution_count": 11,
   "id": "49a6e2fc",
   "metadata": {},
   "outputs": [
    {
     "data": {
      "text/plain": [
       "0.3291929878079056"
      ]
     },
     "execution_count": 11,
     "metadata": {},
     "output_type": "execute_result"
    }
   ],
   "source": [
    "mu = 18  \n",
    "x = 20  \n",
    "lmbda = 1 / mu\n",
    "\n",
    "cdf_x = 1 - math.exp(-lmbda * x)\n",
    "prob = 1 - cdf_x\n",
    "prob"
   ]
  },
  {
   "cell_type": "markdown",
   "id": "04bc29c2",
   "metadata": {},
   "source": [
    "assume that 𝑋 follows a Weibull distribution with 𝜆 = 1/18,000 miles and\n",
    "𝑘 = 1.5. What is the probability that the brand-new motorcycle can be ridden for\n",
    "20,000 miles without any failure?"
   ]
  },
  {
   "cell_type": "code",
   "execution_count": 12,
   "id": "ddf21716",
   "metadata": {},
   "outputs": [
    {
     "data": {
      "text/plain": [
       "0.3099904004692884"
      ]
     },
     "execution_count": 12,
     "metadata": {},
     "output_type": "execute_result"
    }
   ],
   "source": [
    "lambda_ = 18  \n",
    "k = 1.5 \n",
    "\n",
    "cdf_x = weibull_min.cdf(x, k, scale=lambda_)\n",
    "probw = 1 - cdf_x\n",
    "probw\n"
   ]
  },
  {
   "cell_type": "markdown",
   "id": "df6c4e2d",
   "metadata": {},
   "source": [
    "Assuming a Weibull distribution, what is the probability that Jane can ride\n",
    "the motorcycle from Joe for an additional 20,000 miles without any failure?"
   ]
  },
  {
   "cell_type": "code",
   "execution_count": 13,
   "id": "e5582c48",
   "metadata": {},
   "outputs": [
    {
     "data": {
      "text/plain": [
       "0.11629125513840854"
      ]
     },
     "execution_count": 13,
     "metadata": {},
     "output_type": "execute_result"
    }
   ],
   "source": [
    "x1 = 30  \n",
    "cdf_x = weibull_min.cdf(x1, k, scale=lambda_)\n",
    "\n",
    "probw1 = 1 - cdf_x\n",
    "probw1"
   ]
  }
 ],
 "metadata": {
  "kernelspec": {
   "display_name": "Python 3 (ipykernel)",
   "language": "python",
   "name": "python3"
  },
  "language_info": {
   "codemirror_mode": {
    "name": "ipython",
    "version": 3
   },
   "file_extension": ".py",
   "mimetype": "text/x-python",
   "name": "python",
   "nbconvert_exporter": "python",
   "pygments_lexer": "ipython3",
   "version": "3.9.15"
  }
 },
 "nbformat": 4,
 "nbformat_minor": 5
}
