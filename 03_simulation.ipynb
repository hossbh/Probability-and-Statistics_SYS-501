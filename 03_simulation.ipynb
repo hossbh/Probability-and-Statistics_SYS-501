{
 "cells": [
  {
   "cell_type": "code",
   "execution_count": 16,
   "id": "efbfeed2",
   "metadata": {},
   "outputs": [],
   "source": [
    "from scipy.stats import poisson\n",
    "import pandas as pd\n",
    "import numpy as np"
   ]
  },
  {
   "cell_type": "markdown",
   "id": "2df3e935",
   "metadata": {},
   "source": [
    "P1. According to the IATA factsheet, the monthly worldwide average number of airplane\n",
    "accidents of commercial airlines is approximately 4.4 based on the data in 2019. Assuming\n",
    "that this rate of accidents is a predictor of future accidents:"
   ]
  },
  {
   "cell_type": "markdown",
   "id": "48793ed6",
   "metadata": {},
   "source": [
    "what is the probability that\n",
    "there will be more than 4 such accidents in the next month?"
   ]
  },
  {
   "cell_type": "code",
   "execution_count": 7,
   "id": "046b3eae",
   "metadata": {},
   "outputs": [
    {
     "data": {
      "text/plain": [
       "0.4488161914556842"
      ]
     },
     "execution_count": 7,
     "metadata": {},
     "output_type": "execute_result"
    }
   ],
   "source": [
    "average = 4.4\n",
    "\n",
    "prob1 = 1 - poisson.cdf(4, average)\n",
    "prob1"
   ]
  },
  {
   "cell_type": "markdown",
   "id": "762dc127",
   "metadata": {},
   "source": [
    "more than 15 such accidents in the next 3 months?"
   ]
  },
  {
   "cell_type": "code",
   "execution_count": 8,
   "id": "1681e983",
   "metadata": {},
   "outputs": [
    {
     "data": {
      "text/plain": [
       "0.25435258680666173"
      ]
     },
     "execution_count": 8,
     "metadata": {},
     "output_type": "execute_result"
    }
   ],
   "source": [
    "average3 = average * 3\n",
    "\n",
    "prob1 = 1 - poisson.cdf(15, average3)\n",
    "prob1"
   ]
  },
  {
   "cell_type": "markdown",
   "id": "27d2430f",
   "metadata": {},
   "source": [
    "What is the expected time in days from now to the 3rd accident worldwide?"
   ]
  },
  {
   "cell_type": "code",
   "execution_count": 9,
   "id": "ae466270",
   "metadata": {},
   "outputs": [
    {
     "data": {
      "text/plain": [
       "20.454545454545453"
      ]
     },
     "execution_count": 9,
     "metadata": {},
     "output_type": "execute_result"
    }
   ],
   "source": [
    "k = 3  # 3rd accident\n",
    "lambda_ = 4.4\n",
    "days_in_month = 30\n",
    "\n",
    "lambda_d = lambda_ / days_in_month\n",
    "\n",
    "# Expected time until the 3rd accident\n",
    "expectedt = k / lambda_d\n",
    "\n",
    "expectedt"
   ]
  },
  {
   "cell_type": "markdown",
   "id": "46a5616e",
   "metadata": {},
   "source": [
    "P2. Tesla Batteries"
   ]
  },
  {
   "cell_type": "code",
   "execution_count": 13,
   "id": "b839fc50",
   "metadata": {},
   "outputs": [
    {
     "data": {
      "text/html": [
       "<div>\n",
       "<style scoped>\n",
       "    .dataframe tbody tr th:only-of-type {\n",
       "        vertical-align: middle;\n",
       "    }\n",
       "\n",
       "    .dataframe tbody tr th {\n",
       "        vertical-align: top;\n",
       "    }\n",
       "\n",
       "    .dataframe thead th {\n",
       "        text-align: right;\n",
       "    }\n",
       "</style>\n",
       "<table border=\"1\" class=\"dataframe\">\n",
       "  <thead>\n",
       "    <tr style=\"text-align: right;\">\n",
       "      <th></th>\n",
       "      <th>Region</th>\n",
       "      <th>Manufacture date</th>\n",
       "      <th>Vehicle model</th>\n",
       "      <th>Daily Usage</th>\n",
       "      <th>Lifetime average</th>\n",
       "      <th>Date you charged to 100%</th>\n",
       "      <th>Your range at 100% [mi]</th>\n",
       "      <th>100% range for this trim level [mi]</th>\n",
       "      <th>Remaining battery capacity</th>\n",
       "      <th>Mileage [mi]</th>\n",
       "      <th>Mileage [km]</th>\n",
       "    </tr>\n",
       "  </thead>\n",
       "  <tbody>\n",
       "    <tr>\n",
       "      <th>0</th>\n",
       "      <td>Europe (excluding UK) &amp; Asia Pacific</td>\n",
       "      <td>14-Apr-15</td>\n",
       "      <td>Model S 85</td>\n",
       "      <td>Medium</td>\n",
       "      <td>225.0</td>\n",
       "      <td>10-Jun-15</td>\n",
       "      <td>249</td>\n",
       "      <td>245</td>\n",
       "      <td>101.52%</td>\n",
       "      <td>2113.0</td>\n",
       "      <td>3400.0</td>\n",
       "    </tr>\n",
       "    <tr>\n",
       "      <th>1</th>\n",
       "      <td>UK</td>\n",
       "      <td>20-Jun-16</td>\n",
       "      <td>Model S 85</td>\n",
       "      <td>Medium</td>\n",
       "      <td>318.0</td>\n",
       "      <td>24-Dec-16</td>\n",
       "      <td>242</td>\n",
       "      <td>245</td>\n",
       "      <td>98.78%</td>\n",
       "      <td>16800.0</td>\n",
       "      <td>27037.0</td>\n",
       "    </tr>\n",
       "    <tr>\n",
       "      <th>2</th>\n",
       "      <td>Europe (excluding UK) &amp; Asia Pacific</td>\n",
       "      <td>22-Aug-16</td>\n",
       "      <td>Model S 90D</td>\n",
       "      <td>Medium</td>\n",
       "      <td>210.0</td>\n",
       "      <td>18-Jan-18</td>\n",
       "      <td>268</td>\n",
       "      <td>278</td>\n",
       "      <td>96.42%</td>\n",
       "      <td>15845.0</td>\n",
       "      <td>25500.0</td>\n",
       "    </tr>\n",
       "    <tr>\n",
       "      <th>3</th>\n",
       "      <td>Canada</td>\n",
       "      <td>20-Jul-13</td>\n",
       "      <td>Model S P85</td>\n",
       "      <td>Mild</td>\n",
       "      <td>176.0</td>\n",
       "      <td>23-Aug-17</td>\n",
       "      <td>260</td>\n",
       "      <td>266</td>\n",
       "      <td>97.66%</td>\n",
       "      <td>37352.0</td>\n",
       "      <td>60113.0</td>\n",
       "    </tr>\n",
       "    <tr>\n",
       "      <th>4</th>\n",
       "      <td>Europe (excluding UK) &amp; Asia Pacific</td>\n",
       "      <td>24-Jun-16</td>\n",
       "      <td>Model S 75</td>\n",
       "      <td>Mild</td>\n",
       "      <td>188.0</td>\n",
       "      <td>8-Oct-16</td>\n",
       "      <td>237</td>\n",
       "      <td>233</td>\n",
       "      <td>101.60%</td>\n",
       "      <td>821.0</td>\n",
       "      <td>1322.0</td>\n",
       "    </tr>\n",
       "  </tbody>\n",
       "</table>\n",
       "</div>"
      ],
      "text/plain": [
       "                                 Region Manufacture date Vehicle model  \\\n",
       "0  Europe (excluding UK) & Asia Pacific        14-Apr-15    Model S 85   \n",
       "1                                    UK        20-Jun-16    Model S 85   \n",
       "2  Europe (excluding UK) & Asia Pacific        22-Aug-16   Model S 90D   \n",
       "3                                Canada        20-Jul-13   Model S P85   \n",
       "4  Europe (excluding UK) & Asia Pacific        24-Jun-16    Model S 75   \n",
       "\n",
       "  Daily Usage  Lifetime average Date you charged to 100%  \\\n",
       "0      Medium             225.0                10-Jun-15   \n",
       "1      Medium             318.0                24-Dec-16   \n",
       "2      Medium             210.0                18-Jan-18   \n",
       "3        Mild             176.0                23-Aug-17   \n",
       "4        Mild             188.0                 8-Oct-16   \n",
       "\n",
       "   Your range at 100% [mi]  100% range for this trim level [mi]  \\\n",
       "0                      249                                  245   \n",
       "1                      242                                  245   \n",
       "2                      268                                  278   \n",
       "3                      260                                  266   \n",
       "4                      237                                  233   \n",
       "\n",
       "  Remaining battery capacity  Mileage [mi]  Mileage [km]  \n",
       "0                    101.52%        2113.0        3400.0  \n",
       "1                     98.78%       16800.0       27037.0  \n",
       "2                     96.42%       15845.0       25500.0  \n",
       "3                     97.66%       37352.0       60113.0  \n",
       "4                    101.60%         821.0        1322.0  "
      ]
     },
     "execution_count": 13,
     "metadata": {},
     "output_type": "execute_result"
    }
   ],
   "source": [
    "df = pd.read_csv('tesla.csv')\n",
    "df.head()"
   ]
  },
  {
   "cell_type": "markdown",
   "id": "80ab8113",
   "metadata": {},
   "source": [
    "Calculate the covariance between the columns “Remaining Battery Capacity”\n",
    "and “Mileage [mi]”\n",
    "\n",
    "Calculate the covariance between the columns “Remaining Battery Capacity”\n",
    "and “Mileage [km]” "
   ]
  },
  {
   "cell_type": "code",
   "execution_count": 14,
   "id": "ccadb8af",
   "metadata": {},
   "outputs": [
    {
     "data": {
      "text/plain": [
       "(-530.4986320752398, -853.755141472045)"
      ]
     },
     "execution_count": 14,
     "metadata": {},
     "output_type": "execute_result"
    }
   ],
   "source": [
    "df['Remaining battery capacity'] = df['Remaining battery capacity'].str.rstrip('%').astype('float') / 100\n",
    "\n",
    "cov_mi = df[['Remaining battery capacity', 'Mileage [mi]']].cov().iloc[0, 1]\n",
    "cov_km = df[['Remaining battery capacity', 'Mileage [km]']].cov().iloc[0, 1]\n",
    "\n",
    "cov_mi, cov_km"
   ]
  },
  {
   "cell_type": "markdown",
   "id": "23fc6560",
   "metadata": {},
   "source": [
    "We can conclude that there is an inverse relationship between remaining battery\n",
    "capacity and mileage measured in both miles and kilometers, i.e., as the remaining\n",
    "battery capacity increases, the mileage decreases. "
   ]
  },
  {
   "cell_type": "markdown",
   "id": "a86a1cee",
   "metadata": {},
   "source": [
    "Calculate the correlation between the columns “Remaining Battery Capacity”\n",
    "and “Mileage [km]” and between the columns “Remaining Battery Capacity” and\n",
    "“Mileage [mi]”"
   ]
  },
  {
   "cell_type": "code",
   "execution_count": 15,
   "id": "cc8def0d",
   "metadata": {},
   "outputs": [
    {
     "data": {
      "text/plain": [
       "(-0.5839036096877207, -0.5839037931185588)"
      ]
     },
     "execution_count": 15,
     "metadata": {},
     "output_type": "execute_result"
    }
   ],
   "source": [
    "corr_mi = df[['Remaining battery capacity', 'Mileage [mi]']].corr().iloc[0, 1]\n",
    "corr_km = df[['Remaining battery capacity', 'Mileage [km]']].corr().iloc[0, 1]\n",
    "\n",
    "corr_mi, corr_km"
   ]
  },
  {
   "cell_type": "markdown",
   "id": "d76d3c8b",
   "metadata": {},
   "source": [
    "The correlation coefficient also measures the strength of the relationship between\n",
    "two variables. The strength of correlation between the remaining battery capacity\n",
    "and vehicle mileage is the same when mileage is measured in miles and kilometers.\n",
    "It shows that the unit of the mileage measurement does not affect the correlation\n",
    "coefficient."
   ]
  },
  {
   "cell_type": "markdown",
   "id": "18d9fc41",
   "metadata": {},
   "source": [
    "P3. Dart Game: A dart game has a square board whose sides are of length 12 inches.The three circles are all centered at the center of the board and are of radii 2, 4, and 6,\n",
    "inches respectively. Darts landing within the circle of radius 2 score 25 points; those landing\n",
    "outside this circle, but within the circle of radius 4, are worth 15 points; and those landing\n",
    "outside the circle of radius 4, but within the circle of radius 6, are worth 5 points. Darts that\n",
    "do not land within the circle of radius 6 do not score any points. Assume that each dart\n",
    "that you throw will, independently of what occurred on your previous throws, land on a\n",
    "point uniformly distributed in the square.Find the probability to score 15 on a dart throw."
   ]
  },
  {
   "cell_type": "code",
   "execution_count": 17,
   "id": "6f5de0e4",
   "metadata": {},
   "outputs": [
    {
     "data": {
      "text/plain": [
       "0.266"
      ]
     },
     "execution_count": 17,
     "metadata": {},
     "output_type": "execute_result"
    }
   ],
   "source": [
    "n_experiments = 3000\n",
    "board_length = 12  \n",
    "radius_2 = 2\n",
    "radius_4 = 4\n",
    "radius_6 = 6\n",
    "score_15 = 0  \n",
    "\n",
    "\n",
    "np.random.seed(0)  \n",
    "for _ in range(n_experiments):\n",
    "    x = np.random.uniform(0, board_length)\n",
    "    y = np.random.uniform(0, board_length)\n",
    "    distance_from_center = np.sqrt((x - board_length / 2) ** 2 + (y - board_length / 2) ** 2)\n",
    "    if radius_2 < distance_from_center <= radius_4:\n",
    "        score_15 += 1  \n",
    "\n",
    "probs15 = score_15 / n_experiments\n",
    "probs15\n"
   ]
  },
  {
   "cell_type": "markdown",
   "id": "9a0703ad",
   "metadata": {},
   "source": [
    "Find the expected value of the score on a dart throw."
   ]
  },
  {
   "cell_type": "code",
   "execution_count": 18,
   "id": "2d35edc0",
   "metadata": {},
   "outputs": [
    {
     "data": {
      "text/plain": [
       "8.268333333333333"
      ]
     },
     "execution_count": 18,
     "metadata": {},
     "output_type": "execute_result"
    }
   ],
   "source": [
    "scores = {25: 0, 15: 0, 5: 0, 0: 0}\n",
    "\n",
    "for _ in range(n_experiments):\n",
    "    x = np.random.uniform(0, board_length)\n",
    "    y = np.random.uniform(0, board_length)\n",
    "    distance_from_center = np.sqrt((x - board_length / 2) ** 2 + (y - board_length / 2) ** 2)\n",
    "    if distance_from_center <= radius_2:\n",
    "        scores[25] += 1\n",
    "    elif distance_from_center <= radius_4:\n",
    "        scores[15] += 1\n",
    "    elif distance_from_center <= radius_6:\n",
    "        scores[5] += 1\n",
    "    else:\n",
    "        scores[0] += 1  \n",
    "\n",
    "expected_score = sum(score * count for score, count in scores.items()) / n_experiments\n",
    "expected_score"
   ]
  },
  {
   "cell_type": "markdown",
   "id": "087ded06",
   "metadata": {},
   "source": [
    "Find the probability that both of your first two throws score at least 15."
   ]
  },
  {
   "cell_type": "code",
   "execution_count": 19,
   "id": "1bd887c6",
   "metadata": {},
   "outputs": [
    {
     "data": {
      "text/plain": [
       "0.10933333333333334"
      ]
     },
     "execution_count": 19,
     "metadata": {},
     "output_type": "execute_result"
    }
   ],
   "source": [
    "score_15 = 0\n",
    "\n",
    "for _ in range(n_experiments):\n",
    "    score = 0\n",
    "    for _ in range(2):  \n",
    "        x = np.random.uniform(0, board_length)\n",
    "        y = np.random.uniform(0, board_length)\n",
    "        distance_from_center = np.sqrt((x - board_length / 2) ** 2 + (y - board_length / 2) ** 2)\n",
    "        if distance_from_center <= radius_4:\n",
    "            score += 1  \n",
    "    if score == 2:\n",
    "        score_15 += 1\n",
    "\n",
    "prob15 = score_15 / n_experiments\n",
    "prob15"
   ]
  },
  {
   "cell_type": "markdown",
   "id": "1a6aea22",
   "metadata": {},
   "source": [
    "P4. Along 10-mile long highway, there are 3 car accidents and ambulances need to be sent.\n",
    "The location of the first accident is completely unknown and therefore follows a uniform\n",
    "distribution. The locations of the second and third accidents from the ambulance follow a\n",
    "normal distribution with a mean of 6 and 8, respectively and a standard deviation of 1.2,\n",
    "and 2 respectively. Using simulations find the probability that no two accidents are less\n",
    "than 1 mile away from each other."
   ]
  },
  {
   "cell_type": "code",
   "execution_count": 24,
   "id": "71c85e53",
   "metadata": {},
   "outputs": [],
   "source": [
    "n_experiments = 3000\n",
    "highway_length = 10  \n",
    "mean_accident_2 = 6  \n",
    "mean_accident_3 = 8  \n",
    "std_dev_accident_2 = 1.2  \n",
    "std_dev_accident_3 = 2  \n",
    "min_distance = 1  "
   ]
  },
  {
   "cell_type": "code",
   "execution_count": 25,
   "id": "c35b4482",
   "metadata": {},
   "outputs": [],
   "source": [
    "prob_results = []\n",
    "\n",
    "for seed in range(10):\n",
    "    np.random.seed(seed) \n",
    "    no_accidents_close = 0\n",
    "\n",
    "    for _ in range(n_experiments):\n",
    "        accident_1 = np.random.uniform(0, highway_length)\n",
    "        accident_2 = np.clip(np.random.normal(mean_accident_2, std_dev_accident_2), 0, highway_length)\n",
    "        accident_3 = np.clip(np.random.normal(mean_accident_3, std_dev_accident_3), 0, highway_length)\n",
    "        distances = [abs(accident_1 - accident_2), abs(accident_1 - accident_3), abs(accident_2 - accident_3)]\n",
    "        if all(distance >= min_distance for distance in distances):\n",
    "            no_accidents_close += 1\n",
    "    prob = no_accidents_close / n_experiments\n",
    "    prob_results.append(prob)"
   ]
  },
  {
   "cell_type": "code",
   "execution_count": 26,
   "id": "3c123de6",
   "metadata": {},
   "outputs": [],
   "source": [
    "prob_results_diff = max(prob_results) - min(prob_results)\n",
    "consistency_check = prob_results_diff < (max(prob_results) * 0.05)\n",
    "\n",
    "while not consistency_check and n_experiments < 10000:\n",
    "    n_experiments += 1000\n",
    "    prob_results = []\n",
    "\n",
    "    for seed in range(10):\n",
    "        np.random.seed(seed)  \n",
    "        no_accidents_close = 0\n",
    "\n",
    "        for _ in range(n_experiments):\n",
    "            accident_1 = np.random.uniform(0, highway_length)\n",
    "            accident_2 = np.clip(np.random.normal(mean_accident_2, std_dev_accident_2), 0, highway_length)\n",
    "            accident_3 = np.clip(np.random.normal(mean_accident_3, std_dev_accident_3), 0, highway_length)\n",
    "            distances = [abs(accident_1 - accident_2), abs(accident_1 - accident_3), abs(accident_2 - accident_3)]\n",
    "            if all(distance >= min_distance for distance in distances):\n",
    "                no_accidents_close += 1\n",
    "        prob = no_accidents_close / n_experiments\n",
    "        prob_results.append(prob)\n",
    "    prob_results_diff = max(prob_results) - min(prob_results)\n",
    "    consistency_check = prob_results_diff < (max(prob_results) * 0.05)"
   ]
  },
  {
   "cell_type": "code",
   "execution_count": 27,
   "id": "68e6b507",
   "metadata": {},
   "outputs": [
    {
     "data": {
      "text/plain": [
       "(0.4937, True, 6000)"
      ]
     },
     "execution_count": 27,
     "metadata": {},
     "output_type": "execute_result"
    }
   ],
   "source": [
    "average_prob = np.mean(prob_results)\n",
    "average_prob, consistency_check, n_experiments"
   ]
  }
 ],
 "metadata": {
  "kernelspec": {
   "display_name": "Python 3 (ipykernel)",
   "language": "python",
   "name": "python3"
  },
  "language_info": {
   "codemirror_mode": {
    "name": "ipython",
    "version": 3
   },
   "file_extension": ".py",
   "mimetype": "text/x-python",
   "name": "python",
   "nbconvert_exporter": "python",
   "pygments_lexer": "ipython3",
   "version": "3.9.15"
  }
 },
 "nbformat": 4,
 "nbformat_minor": 5
}
