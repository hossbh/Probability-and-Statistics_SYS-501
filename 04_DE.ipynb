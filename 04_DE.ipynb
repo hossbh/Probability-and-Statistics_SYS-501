{
 "cells": [
  {
   "cell_type": "code",
   "execution_count": 57,
   "id": "e49f3a27",
   "metadata": {},
   "outputs": [],
   "source": [
    "import pandas as pd\n",
    "from scipy.stats import t\n",
    "import numpy as np\n",
    "from scipy.stats import chi2\n",
    "from scipy.stats import ttest_ind\n",
    "from scipy.stats import f"
   ]
  },
  {
   "cell_type": "markdown",
   "id": "342debd3",
   "metadata": {},
   "source": [
    "P1. Tesla Batteries: This problem uses the file teslaData.csv that contains the survey data for the\n",
    "battery depreciation in various Tesla vehicles.Use the data in the column “Remaining battery range” for the following:Calculate the sample mean and sample standard deviation for the remaining\n",
    "range on the Tesla vehicles from the Tesla users who provided the data."
   ]
  },
  {
   "cell_type": "code",
   "execution_count": 58,
   "id": "f0cbaea6",
   "metadata": {},
   "outputs": [
    {
     "data": {
      "text/html": [
       "<div>\n",
       "<style scoped>\n",
       "    .dataframe tbody tr th:only-of-type {\n",
       "        vertical-align: middle;\n",
       "    }\n",
       "\n",
       "    .dataframe tbody tr th {\n",
       "        vertical-align: top;\n",
       "    }\n",
       "\n",
       "    .dataframe thead th {\n",
       "        text-align: right;\n",
       "    }\n",
       "</style>\n",
       "<table border=\"1\" class=\"dataframe\">\n",
       "  <thead>\n",
       "    <tr style=\"text-align: right;\">\n",
       "      <th></th>\n",
       "      <th>Region</th>\n",
       "      <th>Manufacture date</th>\n",
       "      <th>Vehicle model</th>\n",
       "      <th>Daily Usage</th>\n",
       "      <th>Lifetime average</th>\n",
       "      <th>Date you charged to 100%</th>\n",
       "      <th>Your range at 100% [mi]</th>\n",
       "      <th>100% range for this trim level [mi]</th>\n",
       "      <th>Remaining battery capacity</th>\n",
       "      <th>Mileage [mi]</th>\n",
       "      <th>Mileage [km]</th>\n",
       "    </tr>\n",
       "  </thead>\n",
       "  <tbody>\n",
       "    <tr>\n",
       "      <th>0</th>\n",
       "      <td>Europe (excluding UK) &amp; Asia Pacific</td>\n",
       "      <td>14-Apr-15</td>\n",
       "      <td>Model S 85</td>\n",
       "      <td>Medium</td>\n",
       "      <td>225.0</td>\n",
       "      <td>10-Jun-15</td>\n",
       "      <td>249</td>\n",
       "      <td>245</td>\n",
       "      <td>101.52%</td>\n",
       "      <td>2113.0</td>\n",
       "      <td>3400.0</td>\n",
       "    </tr>\n",
       "    <tr>\n",
       "      <th>1</th>\n",
       "      <td>UK</td>\n",
       "      <td>20-Jun-16</td>\n",
       "      <td>Model S 85</td>\n",
       "      <td>Medium</td>\n",
       "      <td>318.0</td>\n",
       "      <td>24-Dec-16</td>\n",
       "      <td>242</td>\n",
       "      <td>245</td>\n",
       "      <td>98.78%</td>\n",
       "      <td>16800.0</td>\n",
       "      <td>27037.0</td>\n",
       "    </tr>\n",
       "    <tr>\n",
       "      <th>2</th>\n",
       "      <td>Europe (excluding UK) &amp; Asia Pacific</td>\n",
       "      <td>22-Aug-16</td>\n",
       "      <td>Model S 90D</td>\n",
       "      <td>Medium</td>\n",
       "      <td>210.0</td>\n",
       "      <td>18-Jan-18</td>\n",
       "      <td>268</td>\n",
       "      <td>278</td>\n",
       "      <td>96.42%</td>\n",
       "      <td>15845.0</td>\n",
       "      <td>25500.0</td>\n",
       "    </tr>\n",
       "    <tr>\n",
       "      <th>3</th>\n",
       "      <td>Canada</td>\n",
       "      <td>20-Jul-13</td>\n",
       "      <td>Model S P85</td>\n",
       "      <td>Mild</td>\n",
       "      <td>176.0</td>\n",
       "      <td>23-Aug-17</td>\n",
       "      <td>260</td>\n",
       "      <td>266</td>\n",
       "      <td>97.66%</td>\n",
       "      <td>37352.0</td>\n",
       "      <td>60113.0</td>\n",
       "    </tr>\n",
       "    <tr>\n",
       "      <th>4</th>\n",
       "      <td>Europe (excluding UK) &amp; Asia Pacific</td>\n",
       "      <td>24-Jun-16</td>\n",
       "      <td>Model S 75</td>\n",
       "      <td>Mild</td>\n",
       "      <td>188.0</td>\n",
       "      <td>8-Oct-16</td>\n",
       "      <td>237</td>\n",
       "      <td>233</td>\n",
       "      <td>101.60%</td>\n",
       "      <td>821.0</td>\n",
       "      <td>1322.0</td>\n",
       "    </tr>\n",
       "  </tbody>\n",
       "</table>\n",
       "</div>"
      ],
      "text/plain": [
       "                                 Region Manufacture date Vehicle model  \\\n",
       "0  Europe (excluding UK) & Asia Pacific        14-Apr-15    Model S 85   \n",
       "1                                    UK        20-Jun-16    Model S 85   \n",
       "2  Europe (excluding UK) & Asia Pacific        22-Aug-16   Model S 90D   \n",
       "3                                Canada        20-Jul-13   Model S P85   \n",
       "4  Europe (excluding UK) & Asia Pacific        24-Jun-16    Model S 75   \n",
       "\n",
       "  Daily Usage  Lifetime average Date you charged to 100%  \\\n",
       "0      Medium             225.0                10-Jun-15   \n",
       "1      Medium             318.0                24-Dec-16   \n",
       "2      Medium             210.0                18-Jan-18   \n",
       "3        Mild             176.0                23-Aug-17   \n",
       "4        Mild             188.0                 8-Oct-16   \n",
       "\n",
       "   Your range at 100% [mi]  100% range for this trim level [mi]  \\\n",
       "0                      249                                  245   \n",
       "1                      242                                  245   \n",
       "2                      268                                  278   \n",
       "3                      260                                  266   \n",
       "4                      237                                  233   \n",
       "\n",
       "  Remaining battery capacity  Mileage [mi]  Mileage [km]  \n",
       "0                    101.52%        2113.0        3400.0  \n",
       "1                     98.78%       16800.0       27037.0  \n",
       "2                     96.42%       15845.0       25500.0  \n",
       "3                     97.66%       37352.0       60113.0  \n",
       "4                    101.60%         821.0        1322.0  "
      ]
     },
     "execution_count": 58,
     "metadata": {},
     "output_type": "execute_result"
    }
   ],
   "source": [
    "tesla_data = pd.read_csv('teslaData-sys501.csv')\n",
    "tesla_data.head()"
   ]
  },
  {
   "cell_type": "code",
   "execution_count": 59,
   "id": "1b7ebe0b",
   "metadata": {
    "scrolled": false
   },
   "outputs": [
    {
     "data": {
      "text/plain": [
       "(0.9646714890613973, 0.02928036991328033)"
      ]
     },
     "execution_count": 59,
     "metadata": {},
     "output_type": "execute_result"
    }
   ],
   "source": [
    "if tesla_data['Remaining battery capacity'].dtype == 'O': \n",
    "    tesla_data['Remaining battery capacity'] = tesla_data['Remaining battery capacity'].str.rstrip('%').astype('float') / 100\n",
    "\n",
    "range_mean = tesla_data['Remaining battery capacity'].mean()\n",
    "range_std = tesla_data['Remaining battery capacity'].std()\n",
    "range_mean, range_std\n"
   ]
  },
  {
   "cell_type": "markdown",
   "id": "329c7e58",
   "metadata": {},
   "source": [
    "Both normal and t distribution would give very similar results since we have a large\n",
    "number of data points. However, t-distribution is more appropriate since the\n",
    "population standard deviation is unknown."
   ]
  },
  {
   "cell_type": "markdown",
   "id": "d560e466",
   "metadata": {},
   "source": [
    "Calculate 95% confidence interval and 99% confidence interval for the\n",
    "population mean for the remaining battery capacity."
   ]
  },
  {
   "cell_type": "code",
   "execution_count": 60,
   "id": "2e9839f2",
   "metadata": {},
   "outputs": [
    {
     "data": {
      "text/plain": [
       "((0.9631456416566924, 0.9661973364661023),\n",
       " (0.9626651955090034, 0.9666777826137912))"
      ]
     },
     "execution_count": 60,
     "metadata": {},
     "output_type": "execute_result"
    }
   ],
   "source": [
    "alpha_95 = 1 - 0.95\n",
    "alpha_99 = 1 - 0.99\n",
    "\n",
    "t_95 = t.ppf(1 - alpha_95 / 2, df_range)\n",
    "t_99 = t.ppf(1 - alpha_99 / 2, df_range)\n",
    "\n",
    "margin_95 = t_95 * (range_std / np.sqrt(df_range + 1))\n",
    "margin_99 = t_99 * (range_std / np.sqrt(df_range + 1))\n",
    "\n",
    "confidence_95 = (range_mean - margin_95, range_mean + margin_95)\n",
    "confidence_99 = (range_mean - margin_99, range_mean + margin_99)\n",
    "\n",
    "confidence_95, confidence_99"
   ]
  },
  {
   "cell_type": "markdown",
   "id": "cfea7615",
   "metadata": {},
   "source": [
    " Estimate the population variance with 95% confidence for the remaining\n",
    "range."
   ]
  },
  {
   "cell_type": "code",
   "execution_count": 61,
   "id": "ebf45233",
   "metadata": {},
   "outputs": [
    {
     "data": {
      "text/plain": [
       "(7.991678909553455, 9.260628270116289)"
      ]
     },
     "execution_count": 61,
     "metadata": {},
     "output_type": "execute_result"
    }
   ],
   "source": [
    "alpha_95 = 0.05\n",
    "\n",
    "chi2_lower_95 = chi2.ppf(alpha_95 / 2, df_range)\n",
    "chi2_upper_95 = chi2.ppf(1 - (alpha_95 / 2), df_range)\n",
    "civ95_lower = ((df_range + 1) * sample_variance_percentage) / chi2_upper_95\n",
    "civ95_upper = ((df_range + 1) * sample_variance_percentage) / chi2_lower_95\n",
    "civ95 = (civ95_lower, civ95_upper)\n",
    "\n",
    "civ95"
   ]
  },
  {
   "cell_type": "markdown",
   "id": "3024ae6f",
   "metadata": {},
   "source": [
    "P2. An astronomer is interested in measuring the distance, in light-years, from his observatory\n",
    "to a distant star. Each measurement does not yield the exact distance due to atmospheric\n",
    "conditions and measurement errors, but merely an estimate. As a result, the astronomer\n",
    "plans to make a series of measurements and then use the average value of these\n",
    "measurements as his estimated value of the actual distance. If the astronomer believes\n",
    "that the values of the measurements are independent and identically distributed random\n",
    "variables having a common mean d (the actual distance) and a common variance of 4\n",
    "(light-years2), how many measurements need he make to be reasonably sure that his\n",
    "estimated distance is accurate to within ±0.5 light-year?"
   ]
  },
  {
   "cell_type": "code",
   "execution_count": 62,
   "id": "bd9e7233",
   "metadata": {},
   "outputs": [
    {
     "data": {
      "text/plain": [
       "61.465599999999995"
      ]
     },
     "execution_count": 62,
     "metadata": {},
     "output_type": "execute_result"
    }
   ],
   "source": [
    "sigma = 2  \n",
    "ME = 0.5  \n",
    "\n",
    "z_score_95 = 1.96  \n",
    "n_required = (z_score_95 * sigma / ME) ** 2\n",
    "n_required\n"
   ]
  },
  {
   "cell_type": "code",
   "execution_count": 63,
   "id": "fcfa0e87",
   "metadata": {},
   "outputs": [
    {
     "data": {
      "text/plain": [
       "106.17241600000001"
      ]
     },
     "execution_count": 63,
     "metadata": {},
     "output_type": "execute_result"
    }
   ],
   "source": [
    "z_score_99 = 2.576  \n",
    "n_required_99 = (z_score_99 * sigma / ME) ** 2\n",
    "n_required_99\n"
   ]
  },
  {
   "cell_type": "markdown",
   "id": "2da8b8bf",
   "metadata": {},
   "source": [
    "P3. Gasoline Prices: Use this data to determine whether there is a statistically significant difference in gas\n",
    "prices in these two cities."
   ]
  },
  {
   "cell_type": "code",
   "execution_count": 64,
   "id": "81b42342",
   "metadata": {},
   "outputs": [
    {
     "data": {
      "text/html": [
       "<div>\n",
       "<style scoped>\n",
       "    .dataframe tbody tr th:only-of-type {\n",
       "        vertical-align: middle;\n",
       "    }\n",
       "\n",
       "    .dataframe tbody tr th {\n",
       "        vertical-align: top;\n",
       "    }\n",
       "\n",
       "    .dataframe thead th {\n",
       "        text-align: right;\n",
       "    }\n",
       "</style>\n",
       "<table border=\"1\" class=\"dataframe\">\n",
       "  <thead>\n",
       "    <tr style=\"text-align: right;\">\n",
       "      <th></th>\n",
       "      <th>City 1</th>\n",
       "      <th>City 2</th>\n",
       "    </tr>\n",
       "  </thead>\n",
       "  <tbody>\n",
       "    <tr>\n",
       "      <th>0</th>\n",
       "      <td>2.42</td>\n",
       "      <td>2.32</td>\n",
       "    </tr>\n",
       "    <tr>\n",
       "      <th>1</th>\n",
       "      <td>2.53</td>\n",
       "      <td>2.06</td>\n",
       "    </tr>\n",
       "    <tr>\n",
       "      <th>2</th>\n",
       "      <td>2.48</td>\n",
       "      <td>1.68</td>\n",
       "    </tr>\n",
       "    <tr>\n",
       "      <th>3</th>\n",
       "      <td>2.26</td>\n",
       "      <td>2.84</td>\n",
       "    </tr>\n",
       "    <tr>\n",
       "      <th>4</th>\n",
       "      <td>2.35</td>\n",
       "      <td>2.85</td>\n",
       "    </tr>\n",
       "    <tr>\n",
       "      <th>5</th>\n",
       "      <td>2.63</td>\n",
       "      <td>2.88</td>\n",
       "    </tr>\n",
       "    <tr>\n",
       "      <th>6</th>\n",
       "      <td>2.58</td>\n",
       "      <td>2.53</td>\n",
       "    </tr>\n",
       "    <tr>\n",
       "      <th>7</th>\n",
       "      <td>2.48</td>\n",
       "      <td>2.14</td>\n",
       "    </tr>\n",
       "    <tr>\n",
       "      <th>8</th>\n",
       "      <td>2.43</td>\n",
       "      <td>2.46</td>\n",
       "    </tr>\n",
       "    <tr>\n",
       "      <th>9</th>\n",
       "      <td>2.22</td>\n",
       "      <td>2.58</td>\n",
       "    </tr>\n",
       "    <tr>\n",
       "      <th>10</th>\n",
       "      <td>2.59</td>\n",
       "      <td>2.66</td>\n",
       "    </tr>\n",
       "    <tr>\n",
       "      <th>11</th>\n",
       "      <td>2.44</td>\n",
       "      <td>2.56</td>\n",
       "    </tr>\n",
       "    <tr>\n",
       "      <th>12</th>\n",
       "      <td>2.53</td>\n",
       "      <td>3.26</td>\n",
       "    </tr>\n",
       "    <tr>\n",
       "      <th>13</th>\n",
       "      <td>2.52</td>\n",
       "      <td>3.20</td>\n",
       "    </tr>\n",
       "    <tr>\n",
       "      <th>14</th>\n",
       "      <td>2.40</td>\n",
       "      <td>3.51</td>\n",
       "    </tr>\n",
       "    <tr>\n",
       "      <th>15</th>\n",
       "      <td>2.59</td>\n",
       "      <td>1.91</td>\n",
       "    </tr>\n",
       "    <tr>\n",
       "      <th>16</th>\n",
       "      <td>NaN</td>\n",
       "      <td>3.07</td>\n",
       "    </tr>\n",
       "    <tr>\n",
       "      <th>17</th>\n",
       "      <td>NaN</td>\n",
       "      <td>2.21</td>\n",
       "    </tr>\n",
       "    <tr>\n",
       "      <th>18</th>\n",
       "      <td>NaN</td>\n",
       "      <td>2.78</td>\n",
       "    </tr>\n",
       "  </tbody>\n",
       "</table>\n",
       "</div>"
      ],
      "text/plain": [
       "    City 1  City 2\n",
       "0     2.42    2.32\n",
       "1     2.53    2.06\n",
       "2     2.48    1.68\n",
       "3     2.26    2.84\n",
       "4     2.35    2.85\n",
       "5     2.63    2.88\n",
       "6     2.58    2.53\n",
       "7     2.48    2.14\n",
       "8     2.43    2.46\n",
       "9     2.22    2.58\n",
       "10    2.59    2.66\n",
       "11    2.44    2.56\n",
       "12    2.53    3.26\n",
       "13    2.52    3.20\n",
       "14    2.40    3.51\n",
       "15    2.59    1.91\n",
       "16     NaN    3.07\n",
       "17     NaN    2.21\n",
       "18     NaN    2.78"
      ]
     },
     "execution_count": 64,
     "metadata": {},
     "output_type": "execute_result"
    }
   ],
   "source": [
    "gasoline_data = pd.read_csv('gasoline_data.csv')\n",
    "gasoline_data"
   ]
  },
  {
   "cell_type": "markdown",
   "id": "e67a29b7",
   "metadata": {},
   "source": [
    "H0: 𝜇1 = 𝜇2 \n",
    "\n",
    "Ha: 𝜇1 ≠ 𝜇2\n",
    "\n",
    "Null hypothesis states that the average gas prices in both cities are the same and\n",
    "the alternative hypothesis states that there is a statistically significant difference\n",
    "between them."
   ]
  },
  {
   "cell_type": "code",
   "execution_count": 65,
   "id": "8fa7effc",
   "metadata": {},
   "outputs": [
    {
     "data": {
      "text/plain": [
       "(0.013799583333333322, 0.2311818713450292, 16.752815339474942)"
      ]
     },
     "execution_count": 65,
     "metadata": {},
     "output_type": "execute_result"
    }
   ],
   "source": [
    "var_city1 = gasoline_data['City 1'].var()\n",
    "var_city2 = gasoline_data['City 2'].var()\n",
    "\n",
    "var_ratio = var_city2 / var_city1\n",
    "var_city1, var_city2, var_ratio\n"
   ]
  },
  {
   "cell_type": "markdown",
   "id": "427b1504",
   "metadata": {},
   "source": [
    "Since the ratio of the larger one to the smaller one is a large number (16.75), the\n",
    "test with unequal variances is more appropriate."
   ]
  },
  {
   "cell_type": "code",
   "execution_count": 66,
   "id": "1fd3019b",
   "metadata": {},
   "outputs": [
    {
     "data": {
      "text/plain": [
       "(-1.2232997543071713, 0.2350803363631529)"
      ]
     },
     "execution_count": 66,
     "metadata": {},
     "output_type": "execute_result"
    }
   ],
   "source": [
    "# Welch's t-test\n",
    "t_stat_welch, p_value_welch = ttest_ind(\n",
    "    gasoline_data['City 1'].dropna(),\n",
    "    gasoline_data['City 2'].dropna(),\n",
    "    equal_var=False \n",
    ")\n",
    "\n",
    "t_stat_welch, p_value_welch"
   ]
  },
  {
   "cell_type": "markdown",
   "id": "7919c292",
   "metadata": {},
   "source": [
    "This p-value indicates that there is not a statistically significant difference in the average gas prices between the two cities"
   ]
  },
  {
   "cell_type": "code",
   "execution_count": 70,
   "id": "039b3d61",
   "metadata": {},
   "outputs": [
    {
     "data": {
      "text/plain": [
       "(16.752815339474942, 0.9999992383562499)"
      ]
     },
     "execution_count": 70,
     "metadata": {},
     "output_type": "execute_result"
    }
   ],
   "source": [
    "F_statistic = var_city2 / var_city1\n",
    "\n",
    "dfn = gasoline_data['City 2'].dropna().count() - 1 \n",
    "dfd = gasoline_data['City 1'].dropna().count() - 1  \n",
    "p_value_f_test = f.cdf(F_statistic, dfn, dfd)\n",
    "F_statistic, p_value_f_test\n"
   ]
  },
  {
   "cell_type": "markdown",
   "id": "1edd0756",
   "metadata": {},
   "source": [
    "the results suggest that there is a statistically\n",
    "significant difference in the variances for gas prices in both cities."
   ]
  },
  {
   "cell_type": "code",
   "execution_count": null,
   "id": "56e9755b",
   "metadata": {},
   "outputs": [],
   "source": []
  }
 ],
 "metadata": {
  "kernelspec": {
   "display_name": "Python 3 (ipykernel)",
   "language": "python",
   "name": "python3"
  },
  "language_info": {
   "codemirror_mode": {
    "name": "ipython",
    "version": 3
   },
   "file_extension": ".py",
   "mimetype": "text/x-python",
   "name": "python",
   "nbconvert_exporter": "python",
   "pygments_lexer": "ipython3",
   "version": "3.9.15"
  }
 },
 "nbformat": 4,
 "nbformat_minor": 5
}
